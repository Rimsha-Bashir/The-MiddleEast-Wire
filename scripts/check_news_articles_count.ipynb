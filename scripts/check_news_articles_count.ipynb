{
 "cells": [
  {
   "cell_type": "code",
   "execution_count": null,
   "id": "df8796a0",
   "metadata": {},
   "outputs": [
    {
     "name": "stdout",
     "output_type": "stream",
     "text": [
      "Connecting to 'articles.db'...\n",
      "Current count of rows in table 'articles':  [(29,)]\n"
     ]
    }
   ],
   "source": [
    "import sqlite3\n",
    "\n",
    "print(\"Connecting to 'articles.db'...\")\n",
    "conn = sqlite3.connect(\"newsarticles.db\")\n",
    "cursor = conn.cursor()\n",
    "query=\"Select count(*) from articles\"\n",
    "cursor.execute(query)\n",
    "count = cursor.fetchall()\n",
    "print(\"Current count of rows in table 'articles': \", count)\n"
   ]
  },
  {
   "cell_type": "code",
   "execution_count": null,
   "id": "07145e37",
   "metadata": {},
   "outputs": [
    {
     "name": "stdout",
     "output_type": "stream",
     "text": [
      "The 'articles' table exists.\n",
      "Columns in 'articles' table: [(0, 'Source', 'TEXT', 0, None, 0), (1, 'Title', 'TEXT', 0, None, 0), (2, 'Link', 'TEXT', 0, None, 1), (3, 'Image', 'TEXT', 0, None, 0), (4, 'Topic', 'TEXT', 0, None, 0), (5, 'Country', 'TEXT', 0, None, 0), (6, 'Keywords', 'TEXT', 0, None, 0), (7, 'Publish_Date', 'TEXT', 0, None, 0)]\n"
     ]
    }
   ],
   "source": [
    "cursor.execute(\"SELECT * from articles\")\n",
    "rows = cursor.fetchall()\n",
    "for r in rows:\n",
    "    print(r)\n",
    "conn.close()"
   ]
  }
 ],
 "metadata": {
  "kernelspec": {
   "display_name": "Python 3",
   "language": "python",
   "name": "python3"
  },
  "language_info": {
   "codemirror_mode": {
    "name": "ipython",
    "version": 3
   },
   "file_extension": ".py",
   "mimetype": "text/x-python",
   "name": "python",
   "nbconvert_exporter": "python",
   "pygments_lexer": "ipython3",
   "version": "3.13.0"
  }
 },
 "nbformat": 4,
 "nbformat_minor": 5
}
