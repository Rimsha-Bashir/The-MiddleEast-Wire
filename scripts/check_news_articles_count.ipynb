{
 "cells": [
  {
   "cell_type": "code",
   "execution_count": 1,
   "id": "df8796a0",
   "metadata": {},
   "outputs": [
    {
     "name": "stdout",
     "output_type": "stream",
     "text": [
      "Connecting to 'articles.db'...\n",
      "Current count of rows in table 'articles':  [(29,)]\n"
     ]
    }
   ],
   "source": [
    "import sqlite3\n",
    "\n",
    "print(\"Connecting to 'articles.db'...\")\n",
    "conn = sqlite3.connect(\"newsarticles.db\")\n",
    "cursor = conn.cursor()\n",
    "query=\"Select count(*) from articles\"\n",
    "cursor.execute(query)\n",
    "count = cursor.fetchall()\n",
    "print(\"Current count of rows in table 'articles': \", count)\n"
   ]
  },
  {
   "cell_type": "code",
   "execution_count": 2,
   "id": "07145e37",
   "metadata": {},
   "outputs": [
    {
     "name": "stdout",
     "output_type": "stream",
     "text": [
      "('Al Jazeera', 'Why has Mike Waltz been dropped as US National Security Advisor?', 'https://www.aljazeera.com/program/inside-story/', 'https://www.aljazeera.com//wp-content/uploads/2025/05/image-1746205097.jpg', '', '', '', '2025-05-02', 'Al Jazeera journalists and guests dissect and discuss the day’s top story.')\n",
      "('Al Jazeera', 'Yemen’s Houthis launch missiles at Israel, army says it intercepts', 'https://www.aljazeera.com/news/2025/5/2/yemens-houthis-launch-missiles-at-israel-army-says-it-intercepts', 'https://www.aljazeera.com//wp-content/uploads/2025/05/000_44AT8ZQ-1746203472.jpg', 'Houthis', 'Israel, Middle East, Yemen', 'Houthis', '2025-05-02', 'The group says it attacked an Israeli military base with a hypersonic missile.')\n",
      "('Al Jazeera', 'Why does DRC want to end ex-President Kabila’s immunity for war crimes?', 'https://www.aljazeera.com/news/2025/5/2/why-does-drc-want-to-end-ex-president-kabilas-immunity-for-war-crimes', 'https://www.aljazeera.com//wp-content/uploads/2018/12/3a68a50a6cbf4e4782a3f099818e4d10_18.jpeg?resize=570%2C380&quality=80', 'Joseph Kabila', 'Africa, Democratic Republic of the Congo', 'Joseph Kabila', '2025-05-02', 'The former leader is accused of allying with the rebel M23 group, active in the country’s east.')\n",
      "('Al Jazeera', 'Uganda’s military chief says holding opposition activist ‘in my basement’', 'https://www.aljazeera.com/news/2025/5/2/ugandas-military-chief-says-holding-opposition-activist-in-my-basement', 'https://www.aljazeera.com//wp-content/uploads/2025/05/AP22128599873444-1746202658.jpg', 'Politics', 'Africa, Uganda', 'Politics', '2025-05-02', 'Opposition leader says Eddie Mutwe’s abduction ‘a reminder to the world’ of breakdown in law and order in Uganda.')\n",
      "('Al Jazeera', 'Lebanon warns Hamas against attacks threatening nation’s security', 'https://www.aljazeera.com/news/2025/5/2/lebanon-warns-hamas-against-attacks-threatening-nations-security', 'https://www.aljazeera.com//wp-content/uploads/2025/05/2025-04-04T090511Z_484945701_RC2OQDA4CQPN_RTRMADP_3_ISRAEL-PALESTINIANS-LEBANON-HAMAS-1-1746190316.jpg', 'Israel attacks Lebanon', 'Lebanon, Middle East', 'Israel attacks Lebanon', '2025-05-02', 'President Joseph Aoun says Lebanon must not be used as a launchpad for instability or be dragged into unnecessary wars.')\n",
      "('Al Jazeera', 'Sudanese paramilitary RSF kills 19 after taking city of al-Nahud: Sources', 'https://www.aljazeera.com/news/2025/5/2/sudanese-paramilitaries-kill-19-after-taking-city-of-al-nahud-sources', 'https://www.aljazeera.com//wp-content/uploads/2025/05/AFP__20250316__372G4Q4__v1__HighRes__SudanConflictDarfur-1746191553.jpg', 'Sudan war', 'Middle East, Sudan', 'Sudan war', '2025-05-02', 'Control over city gives RSF strategic advantage in its bid to take Darfur capital el-Fasher, 400km west.')\n",
      "('Al Jazeera', 'Chile downgrades alert after magnitude 7.4 earthquake spurs tsunami fears', 'https://www.aljazeera.com/news/2025/5/2/7-4-magnitude-earthquake-strikes-off-coasts-of-chile-argentina', 'https://www.aljazeera.com//wp-content/uploads/2025/05/2025-05-02T143305Z_470659855_RC2M9EAHJYG9_RTRMADP_3_CHILE-QUAKE-1746203633.jpg', '', 'Argentina, Chile, Latin America', '', '2025-05-02', 'The warning had been for parts of southernmost Magallanes region after quake that also struck off Argentina’s coast.')\n",
      "('Al Jazeera', 'US says war set to run on as Ukraine prepares to ratify minerals deal', 'https://www.aljazeera.com/news/2025/5/2/us-says-war-set-to-run-on-as-ukraine-prepares-to-ratify-minerals-deal', 'https://www.aljazeera.com//wp-content/uploads/2025/05/AFP__20250502__449X3CP__v1__HighRes__UkraineRussiaConflictWar-1-1746183846.jpg', 'Russia-Ukraine war', 'Europe, Ukraine', 'Russia-Ukraine war', '2025-05-02', 'Washington-Kyiv deal absolves Ukraine of past ‘debt’ for aid, but does not give security guarantees.')\n",
      "('Al Jazeera', 'German security service designates far-right AfD as ‘extremist’', 'https://www.aljazeera.com/news/2025/5/2/german-security-service-designates-far-right-afd-as-extremist', 'https://www.aljazeera.com//wp-content/uploads/2025/05/12915259-1746185453.jpg', 'Politics', 'Europe, Germany', 'Politics', '2025-05-02', 'Classification opens way for surveillance of party and is likely to revive discussion of a ban.')\n",
      "('Al Jazeera', 'Harrods, M&S hit by cyberattack: What happened, who’s behind it?', 'https://www.aljazeera.com/news/2025/5/2/harrods-ms-hit-by-cyberattack-what-happened-whos-behind-it', 'https://www.aljazeera.com//wp-content/uploads/2025/05/AP22222373844474-1746170134.jpg', 'Cybercrime', '', 'Cybercrime', '2025-05-02', 'A hacking group called Scattered Spider is believed to be behind the reported ransomware attack on Marks &amp; Spencer.')\n",
      "('Al Jazeera', 'Radical-right Reform party makes gains in UK elections', 'https://www.aljazeera.com/news/2025/5/2/radical-right-reform-party-makes-gains-in-english-elections', 'https://www.aljazeera.com//wp-content/uploads/2025/05/2025-05-02T071448Z_1648676392_RC2H9EAWNSEW_RTRMADP_3_BRITAIN-POLITICS-ELECTIONS-1746176072.jpg', 'Israel-Palestine conflict', 'Europe, United Kingdom', 'Israel-Palestine conflict', '2025-05-02', 'Leader Nigel Farage, a Trump ally, hopes to position anti-immigration party as significant political force in UK.')\n",
      "('Al Jazeera', 'How accurate is the movie ‘Conclave’ on electing a new pope?', 'https://www.aljazeera.com/features/2025/5/2/how-accurate-is-the-movie-conclave-on-electing-a-new-pope', 'https://www.aljazeera.com//wp-content/uploads/2025/05/2024-01-07T121245Z_2080490216_RC2XC5ANTQYR_RTRMADP_3_POPE-BAPTISM-1746179363.jpg', 'Religion', 'Europe, Vatican', 'Religion', '2025-05-02', 'The film ‘does a fair job’ – but we have some notes.')\n",
      "('Al Jazeera', 'Knicks’ Brunson helps seal series against Pistons, Clippers sink Nuggets', 'https://www.aljazeera.com/sports/2025/5/2/knicks-jalen-brunson-hits-late-trey-seals-series-vs-pistons', 'https://www.aljazeera.com//wp-content/uploads/2025/05/2025-05-02T024044Z_1828070701_MT1USATODAY26067584_RTRMADP_3_NBA-PLAYOFFS-NEW-YORK-KNICKS-AT-DETROIT-PISTONS-1746184973.jpg', 'Basketball', 'United States, US & Canada', 'Basketball', '2025-05-02', 'New York Knicks’ Jalen Brunson hits late trey to seal series against Detriot Pistons; LA Clippers beat Denver Nuggets.')\n",
      "('Al Jazeera', 'Red Cross warns Gaza aid effort on ‘verge of collapse’ amid Israel blockade', 'https://www.aljazeera.com/news/2025/5/2/red-cross-warns-gaza-aid-effort-on-verge-of-collapse-amid-israel-blockade', 'https://www.aljazeera.com//wp-content/uploads/2025/04/2025-04-09T130039Z_468116955_RC2LTDAR3E2B_RTRMADP_3_ISRAEL-PALESTINIANS-GAZA-HUNGER-1744883974.jpg', 'Israel-Palestine conflict', 'Middle East, Palestine', 'Israel-Palestine conflict', '2025-05-02', 'ICRC says Israel has ‘obligation’ to meet the needs of Palestinians struggling to survive.')\n",
      "('Middle East Eye', \"Norway says Israel's ban on Gaza aid 'unconscionable and illegal'\", 'https://www.middleeasteye.net/news/israels-gaza-humanitarian-blockade-unconscionable-and-deeply-illegal-says-norway-deputy', 'https://www.middleeasteye.net/sites/default/files/styles/splash/public/video_thumbnails/-zNKL9mFHbI.jpg.webp?itok=2FgOgXps', None, None, None, '2025-05-02', \"Andreas Motzfeldt Kravik urges World Court to pronounce on Israel's humanitarian obligations in occupied Palestine\")\n",
      "('Middle East Eye', 'UK court rules anti-protest laws are unlawful', 'https://www.middleeasteye.net/news/uk-court-rules-anti-protest-laws-are-unlawful', 'https://www.middleeasteye.net/sites/default/files/styles/landing_tile/public/images-story/A%20pro-Palestine%20protestor%20surrounded%20by%20police%2C%20November%202023%2C%20London%20%28MEE%3AKatherine%20hearst%29.jpg.webp?itok=Or9JUNmw', 'UK Politics', '', '', '2025-05-02', 'Since the measures were introduced, hundreds of protesters, many of them pro-Palestine campaigners, have been arrested')\n",
      "('Middle East Eye', 'What is the Gaza freedom flotilla?', 'https://www.middleeasteye.net/news/what-gaza-freedom-flotilla', 'https://www.middleeasteye.net/sites/default/files/styles/landing_tile/public/images-story/gaza-flotilla-solidarity-boats-afp.jpg.webp?itok=fdRZ0PgH', \"Israel's war on Gaza\", '', '', '2025-05-02', 'For 15 years, Israeli troops have intercepted and seized vessels organised by activists around the world to break the siege on the Palestinian enclave')\n",
      "('Middle East Eye', \"Alleged US plans to deport people to Libya 'inhuman,' rights groups say\", 'https://www.middleeasteye.net/news/us-alleged-plans-deport-people-libya-inhuman-rights-groups', 'https://www.middleeasteye.net/sites/default/files/styles/landing_tile/public/images-story/Demonstrators%20gather%20to%20protest%20against%20the%20deportation%20of%20immigrants%20to%20El%20Salvador%20outside%20the%20Permanent%20Mission%20of%20El%20Salvador%20to%20the%20United%20Nations%20on%20April%2024%2C%202025%20.jpg.webp?itok=EJI9jEfV', 'Human Rights', '', '', '2025-05-02', \"Trump officials reportedly seeking to strike a 'safe country' deal with the North African country despite its poor treatment of refugees\")\n",
      "('Middle East Eye', 'First children from Gaza arrive in UK for medical treatment after 17-month struggle', 'https://www.middleeasteye.net/news/first-children-gaza-arrive-uk-medical-treatment-after-17-month-effort', 'https://www.middleeasteye.net/sites/default/files/styles/landing_tile/public/images-story/UK-GhenaRama-Gaza-MedicalTreatment-PCRF-April2025.jpg.webp?itok=6aC2cMDc', \"Israel's war on Gaza\", '', '', '2025-05-02', 'Rama, 12, and Ghena, five, are among thousands of children from Gaza needing urgent care - with some campaigners accusing the UK government of doing too little too late')\n",
      "('Middle East Eye', '‘Unspeakable cruelty’: Yemeni civilians recount horror of US air strikes ', 'https://www.middleeasteye.net/news/unspeakable-cruelty-yemeni-civilians-recount-horror-us-air-strikes', 'https://www.middleeasteye.net/sites/default/files/styles/landing_tile/public/images-story/sanaa-rubble-us-air-strike-afp.jpg.webp?itok=zBLDqtjb', 'Yemen War', '', '', '2025-05-02', 'American attacks on Sanaa, including one which may have been targeted based on amateur open source accounts on X, leave Yemenis traumatised and grieving')\n",
      "('Middle East Eye', \"UK's St Andrews reinstates rector after dismissal for Israel criticism\", 'https://www.middleeasteye.net/news/uks-st-andrews-reinstates-rector-after-dismissal-israel-criticism', 'https://www.middleeasteye.net/sites/default/files/styles/landing_tile/public/images-story/Stella-Maris-St-Andrews-Rector.jpeg.webp?itok=Ii-77yNf', \"Israel's war on Gaza\", '', '', '2025-05-02', \"Stella Maris was fired from the university's governing body after she called for a ceasefire in Gaza and condemned Israel's 'apartheid' and 'illegal occupation' in Palestine\")\n",
      "('Middle East Eye', \"UK tells ICJ Israel's ban on aid to Gaza unjustifiable\", 'https://www.middleeasteye.net/news/uk-tells-icj-no-justification-israels-ban-aid', 'https://www.middleeasteye.net/sites/default/files/styles/landing_tile/public/images-story/uk-delegation-icj-1-may-2024-mee-mounib-taim.jpg.webp?itok=yQL9uNPU', 'International law', '', '', '2025-05-02', 'Legal advisor Sally Langrish says Israel under a legal obligation to allow the Red Cross access to Palestinian detainees')\n",
      "('Middle East Eye', 'Israel bombs vicinity of Syrian presidential palace ', 'https://www.middleeasteye.net/news/israel-confirms-strikes-syrian-presidential-palace', 'https://www.middleeasteye.net/sites/default/files/styles/landing_tile/public/images-story/Screenshot%202025-05-02%20at%20130908.png.webp?itok=sogUztpK', 'Syria War', '', '', '2025-05-02', \"Prime Minister Benjamin Netanyahu says the attack is a 'message' to the new government\")\n",
      "('Middle East Eye', 'Israeli drone targets aid ship bound for Gaza in international waters', 'https://www.middleeasteye.net/news/israeli-drone-strikes-aid-ship-bound-gaza-international-waters', 'https://www.middleeasteye.net/sites/default/files/styles/landing_tile/public/images-story/2025-05-02T075900Z_1799119964_RC2J9EAZRMUC_RTRMADP_3_ISRAEL-PALESTINIANS-NGO-GAZA-MALTA%20%281%29.jpg.webp?itok=2WzNYzom', 'Gaza Siege', '', '', '2025-05-02', 'The attack struck the ship’s generator, igniting a fire and causing a hull breach that left it at risk of sinking')\n",
      "('Middle East Eye', \"UAE's ruling family agrees to $2bn transaction with Trump crypto firm\", 'https://www.middleeasteye.net/news/uaes-ruling-family-agrees-2bn-transaction-trump-crypto-firm', 'https://www.middleeasteye.net/sites/default/files/styles/landing_tile/public/images-story/Trump-Crypto-Dubai-AFP-2025.jpg.webp?itok=d7O8-8zw', 'US Politics', '', '', '2025-05-01', 'The transaction has sparked accusations of corruption and conflicts of interest')\n",
      "('Middle East Eye', 'Trump national security advisor Mike Waltz nominated for UN ambassador role', 'https://www.middleeasteye.net/news/us-trump-national-security-advisor-mike-waltz-nominated-un-ambassador', 'https://www.middleeasteye.net/sites/default/files/styles/landing_tile/public/images-story/2025-04-10T002515Z_2052655399_RC2LUDAEZHHF_RTRMADP_3_USA-TRUMP.jpg.webp?itok=uNws3qSv', 'US Politics', '', '', '2025-05-01', 'Waltz was expected to become the first casualty of the second Trump administration after the group chat fiasco, but has now arguably been given a promotion')\n",
      "('Middle East Eye', \"'What was our fault?': India razes homes, sparking anger and despair in Kashmir\", 'https://www.middleeasteye.net/news/what-was-our-fault-india-razes-homes-sparking-anger-despair-kashmir', 'https://www.middleeasteye.net/sites/default/files/styles/landing_tile/public/images-story/000_43JR764.jpg.webp?itok=XhK0QKgw', 'Kashmir', '', '', '2025-05-01', \"Locals have referred to the punitive demolitions as an 'Israeli tactic' tactic which is frequently employed against Palestinians\")\n",
      "('Middle East Eye', \"'Unprecedented crisis': 100 days of human rights under Trump \", 'https://www.middleeasteye.net/news/unprecedented-crisis-100-days-human-rights-under-trump', 'https://www.middleeasteye.net/sites/default/files/styles/landing_tile/public/images-story/2025-04-30T102034Z_96521650_RC257EACO611_RTRMADP_3_USA-TRUMP-MIGRANTS-TEXAS.jpg.webp?itok=LyY3a2FZ', 'Trump', '', '', '2025-05-01', 'In just three months, the Trump administration has triggered an unprecedented crisis, rights experts say')\n",
      "('Middle East Eye', 'Trump asked Sisi for free passage through Suez Canal, military support against Houthis: Report', 'https://www.middleeasteye.net/news/trump-asked-sisi-free-passage-through-suez-canal-military-support-against-houthis-report', 'https://www.middleeasteye.net/sites/default/files/styles/landing_tile/public/images-story/Trump%20Sisi%20AFP%20%20on%20the%20sidelines%20of%20the%20UN%20General%20Assembly%20in%20New%20York%2C%20September%2023%2C%202019.jpg.webp?itok=f1G-yVtp', 'Inside Egypt', '', '', '2025-05-01', \"Trump's private call with Sisi dovetails with US officials calling on US to extract 'economic gain' from Egypt in leaked Signal chat\")\n"
     ]
    }
   ],
   "source": [
    "cursor.execute(\"SELECT * from articles\")\n",
    "rows = cursor.fetchall()\n",
    "for r in rows:\n",
    "    print(r)\n",
    "conn.close()"
   ]
  }
 ],
 "metadata": {
  "kernelspec": {
   "display_name": "Python 3",
   "language": "python",
   "name": "python3"
  },
  "language_info": {
   "codemirror_mode": {
    "name": "ipython",
    "version": 3
   },
   "file_extension": ".py",
   "mimetype": "text/x-python",
   "name": "python",
   "nbconvert_exporter": "python",
   "pygments_lexer": "ipython3",
   "version": "3.13.0"
  }
 },
 "nbformat": 4,
 "nbformat_minor": 5
}
